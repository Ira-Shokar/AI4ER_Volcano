{
 "cells": [
  {
   "cell_type": "markdown",
   "metadata": {},
   "source": [
    "# AI4ER Environmental Risk Practical Session: Image Analysis of Volcanic Rocks\n",
    "- Friday 6th November, 2020 - online session.\n",
    "- Lecturer: John Maclennan\n",
    "- Practical Experts: Matt Ball and Norbert Toth.\n",
    "\n",
    "## Purpose of this session\n",
    "### Broader Context\n",
    "Image analysis is a field with clear targets for machine learning approaches. Furthermore, many environmental applications use spectral imaging - the acquisition of a spectrum at each pixel. This is a language that will likely become familiar to you from the treatment of satellite data to map features on the global scale. At the other extreme of spatial scales, the examination of environmental materials by electron microscopy is evolving rapidly due to rapid advances in instrumentation the application of techniques developed in materials science to earth and environmental problems. \n",
    "### Key Skills\n",
    "- Run Jupyter Notebook in Jupyter Lab from Binder\n",
    "- Use of HyperSpy package for handling electron microscope data\n",
    "- Use of Skimage package for image processing\n",
    "- Application of Machine Learning techniques to Phase Identification\n",
    "- Masking and Segmentation of phases\n",
    "- Extraction of rock textural properties (Crystal Sizes and Shapes)\n",
    "- Estimating magmatic timescales"
   ]
  },
  {
   "cell_type": "markdown",
   "metadata": {},
   "source": [
    "## Table of Contents <a id='link1'></a>\n",
    "\n",
    "<a href='#link10'> **1.0 What is a Phase Map of a Volcanic Rock?**</a>\n",
    "\n",
    "<a href='#link10'> **2.0 Using Machine Learning to guide phase mapping**</a>\n",
    "\n",
    "<a href='#link2'> **1.0 Loading and Saving data**</a>\n",
    "\n",
    "<a href='#link3'> **2.0 Machine Learning for Separating Phases**</a>\n",
    "\n",
    "<a href='#link6'> **2.1 Identifying the number of phases**</a>\n",
    "\n",
    "<a href='#link7'> **2.2 Creating a phase mask**</a>\n",
    "\n",
    "<a href='#link4'> **3.0 Quantification of Phases - Mineralogy**</a>\n",
    "\n",
    "<a href='#link5'> **4.0 Quantification of Elements - Morphology**</a>\n",
    "\n",
    "This notebook contains a commented workflow on running machine learning on EDS data for phase separation and quantifying morphology.\n",
    "\n",
    "Original written by Matt Ball, updated by John Maclennan and with new code from Norbert Toth."
   ]
  },
  {
   "cell_type": "markdown",
   "metadata": {},
   "source": [
    "## 1.0 What is a Phase Map of a Volcanic Rock? <a id='link10'></a>\n",
    "\n",
    "Here is an example of a [phase map](https://academic.oup.com/view-large/figure/82008133/egu058f10p.png) of a rock from the active volcanic zones of Iceland.\n",
    "The image is from [Neave et al., 2014](https://academic.oup.com/petrology/article/55/12/2311/1558945).\n",
    "It was generated using a commerical system called QEMSCAN that is a piece of software that is linking to a scanning electron microcope (SEM).\n",
    "You can see from the scale that we are looking at map of a 'thin section' prepared from the rock - you saw some of these in the lecture slides, as well as the SEM in the Department of Earth Sciences. The rocks are made of 'phases'. Each phase has a distinctive composition and set of thermodynamic properties which are determined by the crystalline (or glass) structure of the cooled lava. These phase names (e.g. olivine, plagioclase, clinopyroxene) are displayed on the legend of the figure along with the colours. In essence the QEMSCAN system is performing an advanced form of colour-by-numbers. The question is - how does it do this?\n",
    "\n",
    "This raw data that goes into generation of these maps is acquired using a technique known as Energy Dispersive Spectroscopy (EDS). The SEM fires an electron beam at a focussed point on the sample surface, causing electrons to shift around energy levels and then to release X-rays - which are gathered by the EDS detectors. A spectrum is generated and the position of peaks can be attributed to characteristic energies that are associated with elements. The peak height is linked to the concentration of the element in the sample.\n",
    "\n",
    "The QEMSCAN software converts the spectrum for each pixel into an estimate of the chemical composition of that point, and then uses a series of logical filters on the compositional data to match each pixel to a phase. For example, olivine is a mineral that contains This means that a large database of phases has to be accessed and the selection of possible phases is not guided by the compositional variations observed within the sample itself."
   ]
  },
  {
   "cell_type": "markdown",
   "metadata": {},
   "source": [
    "## 2.0 Using Machine Learning to guide phase mapping: Setup <a id='link20'></a>\n",
    "\n",
    "An alternative approach with considerable promise in this field is to base the identification of phases directly on the available EDS data. In order to understand how we might be able to use this approach we are going to work through a set of activties in this notebook, starting from data input/output through to quantification of the rock textures.\n",
    "\n",
    "The datasets are large and some of the ML processing is computationally expensive. For this practical we will therefore work with relatively small portions of the images, but will import results from larger images that have been calculated beforehand - Matt or Norbert might well say - \"Here's one that I made earlier\"."
   ]
  },
  {
   "cell_type": "markdown",
   "metadata": {},
   "source": [
    "### 2.1 Load in Packages - Numpy, Scipy, Skimage, Hyperspy"
   ]
  },
  {
   "cell_type": "code",
   "execution_count": 1,
   "metadata": {},
   "outputs": [
    {
     "name": "stderr",
     "output_type": "stream",
     "text": [
      "/Users/johnmaclennan/opt/anaconda3/lib/python3.8/site-packages/pyUSID/viz/__init__.py:16: FutureWarning: Please use sidpy.viz.plot_utils instead of pyUSID.viz.plot_utils. pyUSID.plot_utils will be removed in a future release of pyUSID\n",
      "  warn('Please use sidpy.viz.plot_utils instead of pyUSID.viz.plot_utils. '\n",
      "WARNING:hyperspy_gui_traitsui:The module://ipykernel.pylab.backend_inline matplotlib backend is not compatible with the traitsui GUI elements. For more information, read http://hyperspy.readthedocs.io/en/stable/user_guide/getting_started.html#possible-warnings-when-importing-hyperspy.\n",
      "WARNING:hyperspy_gui_traitsui:The traitsui GUI elements are not available.\n"
     ]
    }
   ],
   "source": [
    "import hyperspy.api as hs\n",
    "hs.preferences.GUIs.enable_traitsui_gui = False\n",
    "hs.preferences.save()\n",
    "import numpy as np\n",
    "from numpy import mean, std, median, sqrt, exp, log, delete\n",
    "\n",
    "import matplotlib.pyplot as plt\n",
    "import matplotlib as mpl\n",
    "from cycler import cycler\n",
    "\n",
    "import scipy\n",
    "from scipy import ndimage as ndi\n",
    "from scipy.stats import sem, t, norm, gaussian_kde, mstats, iqr\n",
    "from scipy.optimize import curve_fit\n",
    "\n",
    "import skimage as ski\n",
    "from skimage.segmentation import random_walker\n",
    "from skimage.feature import peak_local_max\n",
    "from skimage import exposure\n",
    "from skimage import measure\n",
    "from skimage import morphology as mph\n",
    "from skimage import restoration\n",
    "from skimage.filters import threshold_otsu\n",
    "from skimage.color import rgb2gray\n",
    "\n",
    "%matplotlib widget"
   ]
  },
  {
   "cell_type": "markdown",
   "metadata": {},
   "source": [
    "### 2.2 Load and Plot EDS Data\n",
    "\n",
    "Use Hyperspy to load in the EDS data in its bespoke .bcf format as output by the software that runs the detectors. You can look in the Hyperspy documentation to figure out what some of these commands are doing. "
   ]
  },
  {
   "cell_type": "code",
   "execution_count": 2,
   "metadata": {},
   "outputs": [
    {
     "data": {
      "text/plain": [
       "[<Signal2D, title: Ch 0, dimensions: (|1820, 1295)>,\n",
       " <Signal2D, title: Ch 0, dimensions: (|2000, 2000)>,\n",
       " <EDSSEMSpectrum, title: EDX, dimensions: (1820, 1295|2048)>]"
      ]
     },
     "execution_count": 2,
     "metadata": {},
     "output_type": "execute_result"
    }
   ],
   "source": [
    "#a = hs.load('your_filename.bcf')\n",
    "a = hs.load('JM1_OL7_map1.bcf')\n",
    "#https://drive.google.com/file/d/1yHQXNsE8Pls8lfTuLQTI9R46uqpY-Q0s/view?usp=sharing \n",
    "#gdrive_file_id = '1yHQXNsE8Pls8lfTuLQTI9R46uqpY-Q0s'\n",
    "#a = hs.load(f'https://docs.google.com/uc?id={gdrive_file_id}&export=download')\n",
    "\n",
    "a"
   ]
  },
  {
   "cell_type": "code",
   "execution_count": 3,
   "metadata": {},
   "outputs": [],
   "source": [
    "s = a[2]\n",
    "s.axes_manager.set_signal_dimension(1)"
   ]
  },
  {
   "cell_type": "code",
   "execution_count": 4,
   "metadata": {},
   "outputs": [
    {
     "data": {
      "application/vnd.jupyter.widget-view+json": {
       "model_id": "eaf4ffa5a19344d79a442c76cfd88cf3",
       "version_major": 2,
       "version_minor": 0
      },
      "text/plain": [
       "VBox(children=(Tab(children=(VBox(children=(HBox(children=(Label(value='Expand structures in DictionaryTreeBro…"
      ]
     },
     "metadata": {},
     "output_type": "display_data"
    }
   ],
   "source": [
    "hs.preferences.gui()"
   ]
  },
  {
   "cell_type": "code",
   "execution_count": 5,
   "metadata": {},
   "outputs": [
    {
     "data": {
      "application/vnd.jupyter.widget-view+json": {
       "model_id": "86a628e5f71649138705f7ee47b1516c",
       "version_major": 2,
       "version_minor": 0
      },
      "text/plain": [
       "Canvas(toolbar=Toolbar(toolitems=[('Home', 'Reset original view', 'home', 'home'), ('Back', 'Back to previous …"
      ]
     },
     "metadata": {},
     "output_type": "display_data"
    },
    {
     "data": {
      "application/vnd.jupyter.widget-view+json": {
       "model_id": "7005fd1c55524aa8a2a28144adbdbeb9",
       "version_major": 2,
       "version_minor": 0
      },
      "text/plain": [
       "Canvas(toolbar=Toolbar(toolitems=[('Home', 'Reset original view', 'home', 'home'), ('Back', 'Back to previous …"
      ]
     },
     "metadata": {},
     "output_type": "display_data"
    }
   ],
   "source": [
    "s.plot()"
   ]
  },
  {
   "cell_type": "markdown",
   "metadata": {},
   "source": [
    "Two new plot windows should have appeared. They does not look very impressive. One plot is a map and you can see the scale bar.\n",
    "The bottom plot shows a spectrum, with a very small number of points. Can you figure out from the [Hyperspy manual](http://hyperspy.org/hyperspy-doc/current/user_guide/visualisation.html#multidimensional-spectral-data) what you have plotted here?"
   ]
  },
  {
   "cell_type": "markdown",
   "metadata": {},
   "source": [
    "If you zoom in to the origin (look carefully at all the information on the plots) then you should be able to see a red line round the selected pixel. You can move this and examine the spectra of other individual pixels."
   ]
  },
  {
   "cell_type": "code",
   "execution_count": 5,
   "metadata": {},
   "outputs": [],
   "source": [
    "plt.close('all')"
   ]
  },
  {
   "cell_type": "markdown",
   "metadata": {},
   "source": [
    "Try to play around with the Region of Interest commands in Hyperspy plotting. This should start to give you an even clearer feeling for what the low-quality spectrum - low number of counts - available at each point looks like."
   ]
  },
  {
   "cell_type": "code",
   "execution_count": 6,
   "metadata": {},
   "outputs": [
    {
     "name": "stdout",
     "output_type": "stream",
     "text": [
      "using interactive roi\n"
     ]
    }
   ],
   "source": [
    "roi = hs.roi.RectangularROI(left=120, right=460., top=300, bottom=560)\n",
    "s.plot()\n",
    "sc = roi.interactive(s)\n",
    "sc.plot()"
   ]
  },
  {
   "cell_type": "code",
   "execution_count": 7,
   "metadata": {},
   "outputs": [
    {
     "name": "stdout",
     "output_type": "stream",
     "text": [
      "removing widget\n"
     ]
    }
   ],
   "source": [
    "plt.close('all')"
   ]
  },
  {
   "cell_type": "markdown",
   "metadata": {},
   "source": [
    "### 2.3 Compositional information in Spectra\n",
    "\n",
    "Hyperspy contains a database of [elemental properties](http://hyperspy.org/hyperspy-doc/current/user_guide/eds.html#elemental-database). Add a code cell in below to print where you would expect to find peaks for Mg and Fe in the spectra. "
   ]
  },
  {
   "cell_type": "markdown",
   "metadata": {},
   "source": [
    "It is also possible to add labels to peaks found on the plotted spectra, as shown below. You might like to compare these with a high quality spectrum (lots of counts) for the mineral phase called olivine (e.g. in the [Mindat database](https://www.mindatnh.org/Forsterite%20Gallery.html))."
   ]
  },
  {
   "cell_type": "code",
   "execution_count": 8,
   "metadata": {},
   "outputs": [],
   "source": [
    "s.add_elements(['Si','Mg','Fe','Al','Ca'])\n",
    "s.plot(True)"
   ]
  },
  {
   "cell_type": "code",
   "execution_count": 9,
   "metadata": {},
   "outputs": [],
   "source": [
    "plt.close('all')"
   ]
  },
  {
   "cell_type": "markdown",
   "metadata": {},
   "source": [
    "### 2.4 Subset the loaded data\n",
    "\n",
    "The data file provided is very large and too big for us to process in the Binder environment (2 Gb memory). It is therefore necessary to subset the data."
   ]
  },
  {
   "cell_type": "code",
   "execution_count": 10,
   "metadata": {},
   "outputs": [],
   "source": [
    "s_mini = s.data[0:200,500:800,:]\n",
    "s_min = hs.signals.Signal1D(s_mini)\n",
    "s_min.plot()"
   ]
  },
  {
   "cell_type": "code",
   "execution_count": 11,
   "metadata": {},
   "outputs": [],
   "source": [
    "plt.close('all')"
   ]
  },
  {
   "cell_type": "markdown",
   "metadata": {},
   "source": [
    "### Assign metadata"
   ]
  },
  {
   "cell_type": "code",
   "execution_count": 12,
   "metadata": {},
   "outputs": [],
   "source": [
    "s_min.set_signal_type(\"EDS_SEM\")\n",
    "s_min.axes_manager[-1].name = 'E'\n",
    "s_min.axes_manager['E'].units = 'keV'\n",
    "s_min.axes_manager['E'].scale = 0.01\n",
    "#Set the offset, the difference between the measured peak location and the true location, often an\n",
    "#artificial zero peak is added to EDS data which can be used for this. This may need to be done a few\n",
    "#times to correctly set this value\n",
    "s_min.axes_manager['E'].offset = -0.3\n",
    "#Set the beam energy to the beam energy the EDS data was collected at in keV\n",
    "s_min.metadata.Acquisition_instrument.SEM.beam_energy = 20\n",
    "s_min.plot()"
   ]
  },
  {
   "cell_type": "code",
   "execution_count": 13,
   "metadata": {},
   "outputs": [],
   "source": [
    "plt.close('all')"
   ]
  },
  {
   "cell_type": "markdown",
   "metadata": {},
   "source": [
    "### Saving and Loading in Hyperspy Format\n",
    "\n",
    "When files are saved in Hyperspy format they can be rapidly reloaded as required. \n",
    "\n"
   ]
  },
  {
   "cell_type": "code",
   "execution_count": 14,
   "metadata": {},
   "outputs": [
    {
     "name": "stdin",
     "output_type": "stream",
     "text": [
      "Overwrite 'your_filename.hspy' (y/n)?\n",
      " y\n"
     ]
    }
   ],
   "source": [
    "s.save('your_filename')"
   ]
  },
  {
   "cell_type": "code",
   "execution_count": 15,
   "metadata": {},
   "outputs": [],
   "source": [
    "s = hs.load('your_filename.hspy')"
   ]
  },
  {
   "cell_type": "markdown",
   "metadata": {},
   "source": [
    "## 3.0 Machine Learning for Separating Phases <a id='link3'></a>"
   ]
  },
  {
   "cell_type": "markdown",
   "metadata": {},
   "source": [
    "### 3.1 Identifying the number of phases <a id='link6'></a>"
   ]
  },
  {
   "cell_type": "markdown",
   "metadata": {},
   "source": [
    "First we run a PCA (Principal Component Analysis) on the data to identify the number of significant principal components. The different phases will consist of both a loading map and corresponding spectrum. These can be cycled through using the arrow keys. Also plotted are two scree plots, which show the percentage of the data which can be explained by each principal component, one of which is plotted with a logarithmic y-axis, due to the large amount of data, this will be too slow to perform on the full dataset, so we will instead use the subset of data we created earlier, whilst the results of the machine learning on the full set can be loaded in and viewed.\n",
    "The cell below produces a number of plots in windows - make sure that you can see them all and interact with them - using the slider window in particular."
   ]
  },
  {
   "cell_type": "code",
   "execution_count": 16,
   "metadata": {},
   "outputs": [
    {
     "name": "stdout",
     "output_type": "stream",
     "text": [
      "Decomposition info:\n",
      "  normalize_poissonian_noise=True\n",
      "  algorithm=SVD\n",
      "  output_dimension=20\n",
      "  centre=None\n"
     ]
    },
    {
     "data": {
      "application/vnd.jupyter.widget-view+json": {
       "model_id": "ce0ece05fb2845beacd3b72e7b751290",
       "version_major": 2,
       "version_minor": 0
      },
      "text/plain": [
       "VBox(children=(HBox(children=(Label(value='Decomposition component index', layout=Layout(width='15%')), IntSli…"
      ]
     },
     "metadata": {},
     "output_type": "display_data"
    },
    {
     "data": {
      "text/plain": [
       "<AxesSubplot:title={'center':'\\nPCA Scree Plot'}, xlabel='Principal component index', ylabel='Proportion of variance'>"
      ]
     },
     "execution_count": 16,
     "metadata": {},
     "output_type": "execute_result"
    }
   ],
   "source": [
    "s_min.change_dtype('float32')\n",
    "s_min.decomposition(True, algorithm='SVD', output_dimension=20)\n",
    "s_min.plot_decomposition_results()\n",
    "s_min.plot_explained_variance_ratio(log=False)\n",
    "s_min.plot_explained_variance_ratio(log=True)"
   ]
  },
  {
   "cell_type": "markdown",
   "metadata": {},
   "source": [
    "It is worth noting that the results of this PCA contain both negative loading intensities as well as negative spectra, neither of which is physically meaningful. This first step is really to identify the number of significant phases which the machine learning can pull apart. How many phases do you think are being picked up by this PCA approach? How can we tell whether the recovered principal components are likely to correspond to natural features of the rock sample?"
   ]
  },
  {
   "cell_type": "code",
   "execution_count": 17,
   "metadata": {},
   "outputs": [],
   "source": [
    "plt.close('all')"
   ]
  },
  {
   "cell_type": "markdown",
   "metadata": {},
   "source": [
    "Again we can save the results of this analysis"
   ]
  },
  {
   "cell_type": "code",
   "execution_count": 18,
   "metadata": {},
   "outputs": [],
   "source": [
    "s.learning_results.save('your_filename_PCA')"
   ]
  },
  {
   "cell_type": "markdown",
   "metadata": {},
   "source": [
    "Here's one I made earlier! Now we can load in the PCA results on the whole dataset to compare to our subsection. Alternatively we can load in results of any previous PCA"
   ]
  },
  {
   "cell_type": "code",
   "execution_count": 19,
   "metadata": {},
   "outputs": [],
   "source": [
    "s.learning_results.load('AI4ER_JM1_OL7_PCA.npz')"
   ]
  },
  {
   "cell_type": "code",
   "execution_count": 20,
   "metadata": {},
   "outputs": [
    {
     "data": {
      "application/vnd.jupyter.widget-view+json": {
       "model_id": "6d09a0834e5744c6b2866401682bf8b8",
       "version_major": 2,
       "version_minor": 0
      },
      "text/plain": [
       "VBox(children=(HBox(children=(Label(value='Decomposition component index', layout=Layout(width='15%')), IntSli…"
      ]
     },
     "metadata": {},
     "output_type": "display_data"
    },
    {
     "data": {
      "text/plain": [
       "<AxesSubplot:title={'center':'EDX\\nPCA Scree Plot'}, xlabel='Principal component index', ylabel='Proportion of variance'>"
      ]
     },
     "execution_count": 20,
     "metadata": {},
     "output_type": "execute_result"
    }
   ],
   "source": [
    "s.plot_decomposition_results()\n",
    "s.plot_explained_variance_ratio(log=False)\n",
    "s.plot_explained_variance_ratio(log=True)"
   ]
  },
  {
   "cell_type": "markdown",
   "metadata": {},
   "source": [
    "Again, how many of the PCs do you think might be picking up aspects of the rock sample - rather than analytical noise or artifacts?"
   ]
  },
  {
   "cell_type": "code",
   "execution_count": 21,
   "metadata": {},
   "outputs": [],
   "source": [
    "plt.close('all')"
   ]
  },
  {
   "cell_type": "code",
   "execution_count": null,
   "metadata": {},
   "outputs": [],
   "source": []
  },
  {
   "cell_type": "markdown",
   "metadata": {},
   "source": [
    "### 3.2 Defining the number of principal components"
   ]
  },
  {
   "cell_type": "markdown",
   "metadata": {},
   "source": [
    "The number of principal components can be defined either by the number which is below a critical value of variance, by the shape of the scree plot, by the form of the associated spectrum or by the spatial pattern defined in the images. Pick a number - perhaps discuss the best strategy with a demonstrator if you are unsure."
   ]
  },
  {
   "cell_type": "code",
   "execution_count": 22,
   "metadata": {},
   "outputs": [],
   "source": [
    "PC = 'number of principal components' # Replace strong with number\n",
    "PC = 3"
   ]
  },
  {
   "cell_type": "markdown",
   "metadata": {},
   "source": [
    "We now use this number of principal components to run a non-negative matrix factorisation, a clustering algorithm which produces only positive loadings and spectra, removing the issue of non physically meaningful results. This makes use of machine learning algorithms through scikit-learn. Again we will perform this only on the subset of the data and load in a previously collected result for the full dataset."
   ]
  },
  {
   "cell_type": "code",
   "execution_count": 23,
   "metadata": {},
   "outputs": [
    {
     "name": "stderr",
     "output_type": "stream",
     "text": [
      "/Users/johnmaclennan/opt/anaconda3/lib/python3.8/site-packages/sklearn/decomposition/_nmf.py:1076: ConvergenceWarning: Maximum number of iterations 200 reached. Increase it to improve convergence.\n",
      "  warnings.warn(\"Maximum number of iterations %d reached. Increase it to\"\n"
     ]
    },
    {
     "name": "stdout",
     "output_type": "stream",
     "text": [
      "Decomposition info:\n",
      "  normalize_poissonian_noise=True\n",
      "  algorithm=NMF\n",
      "  output_dimension=3\n",
      "  centre=None\n",
      "scikit-learn estimator:\n",
      "NMF(n_components=3)\n"
     ]
    },
    {
     "data": {
      "application/vnd.jupyter.widget-view+json": {
       "model_id": "13ad9abc37454720918094990f1215f3",
       "version_major": 2,
       "version_minor": 0
      },
      "text/plain": [
       "VBox(children=(HBox(children=(Label(value='Decomposition component index', layout=Layout(width='15%')), IntSli…"
      ]
     },
     "metadata": {},
     "output_type": "display_data"
    }
   ],
   "source": [
    "s_min.decomposition(True, algorithm='NMF', output_dimension=PC)\n",
    "s_min.plot_decomposition_results()"
   ]
  },
  {
   "cell_type": "markdown",
   "metadata": {},
   "source": [
    "This should be starting to look quite good - use the slider wondow to examine the maps and spectra associated with the factors obtained.  Hopefully you can see crystal shapes on the maps and note that the spectra look physically plausible - in that at least they all have positive count values. Another remarkable feature is how smooth and sharp the spectra associated with each factor are - certainly in comparison to the noisy low-count spectra from each individual point. This is the power of looked for correlated signals across thousands of pixels. "
   ]
  },
  {
   "cell_type": "code",
   "execution_count": 24,
   "metadata": {},
   "outputs": [],
   "source": [
    "plt.close('all')"
   ]
  },
  {
   "cell_type": "markdown",
   "metadata": {},
   "source": [
    "Again we can save the results of this analysis"
   ]
  },
  {
   "cell_type": "code",
   "execution_count": 25,
   "metadata": {},
   "outputs": [],
   "source": [
    "s.learning_results.save('your_filename_NMF')"
   ]
  },
  {
   "cell_type": "markdown",
   "metadata": {},
   "source": [
    "And again here's another pre-NMF-ed set of results. We could alternatively load in other previously collected results"
   ]
  },
  {
   "cell_type": "code",
   "execution_count": 26,
   "metadata": {},
   "outputs": [],
   "source": [
    "s.learning_results.load('AI4ER_JM1_OL7_NMF.npz')"
   ]
  },
  {
   "cell_type": "markdown",
   "metadata": {},
   "source": [
    "Now, plot these results up and attempt to label the spectra for the position of the elements."
   ]
  },
  {
   "cell_type": "code",
   "execution_count": 27,
   "metadata": {},
   "outputs": [
    {
     "data": {
      "application/vnd.jupyter.widget-view+json": {
       "model_id": "6767755d30c941268b2e4f9034806265",
       "version_major": 2,
       "version_minor": 0
      },
      "text/plain": [
       "VBox(children=(HBox(children=(Label(value='Decomposition component index', layout=Layout(width='15%')), IntSli…"
      ]
     },
     "metadata": {},
     "output_type": "display_data"
    }
   ],
   "source": [
    "s.plot_decomposition_results()"
   ]
  },
  {
   "cell_type": "markdown",
   "metadata": {},
   "source": [
    "In the next plot, you can move between the spectra of the factors by clicking on the red line in the slider and moving it vertically. "
   ]
  },
  {
   "cell_type": "code",
   "execution_count": 30,
   "metadata": {},
   "outputs": [],
   "source": [
    "snspec = s.get_decomposition_factors()\n",
    "snspec.add_elements(['Si','Mg','Fe','Al','Ca'])\n",
    "snspec.plot(True)"
   ]
  },
  {
   "cell_type": "markdown",
   "metadata": {},
   "source": [
    "Which phases do the different factors correspond to? Use the [Mindat](https://www.mindat.org/) database to check on mineral compositions.\n",
    "In this type of rock, which is called a basalt, the common mineral phases are olivine, clinopyroxene, plagioclase, magnetite and a Cr-bearing spinel.\n",
    "The basaltic liquid also quenches to a glass when it cools rapidly on eruption. \n",
    "You can find some likely glass compositions (as well as the answers to the questions above) in [Larsen and Pedersen, 2000](https://academic.oup.com/petrology/article/41/7/1071/1457495#99082445) - glass compositions in Table 3."
   ]
  },
  {
   "cell_type": "code",
   "execution_count": null,
   "metadata": {},
   "outputs": [],
   "source": []
  }
 ],
 "metadata": {
  "kernelspec": {
   "display_name": "Python 3",
   "language": "python",
   "name": "python3"
  },
  "language_info": {
   "codemirror_mode": {
    "name": "ipython",
    "version": 3
   },
   "file_extension": ".py",
   "mimetype": "text/x-python",
   "name": "python",
   "nbconvert_exporter": "python",
   "pygments_lexer": "ipython3",
   "version": "3.8.5"
  }
 },
 "nbformat": 4,
 "nbformat_minor": 4
}
